{
  "cells": [
    {
      "cell_type": "code",
      "execution_count": null,
      "metadata": {
        "colab": {
          "base_uri": "https://localhost:8080/"
        },
        "id": "pRnq3fdRf85v",
        "outputId": "d1f42dc8-19a0-4a22-9a45-cac0f2dc25c9"
      },
      "outputs": [
        {
          "output_type": "stream",
          "name": "stdout",
          "text": [
            "Requirement already satisfied: google-generativeai in /usr/local/lib/python3.11/dist-packages (0.8.4)\n",
            "Requirement already satisfied: google-ai-generativelanguage==0.6.15 in /usr/local/lib/python3.11/dist-packages (from google-generativeai) (0.6.15)\n",
            "Requirement already satisfied: google-api-core in /usr/local/lib/python3.11/dist-packages (from google-generativeai) (2.19.2)\n",
            "Requirement already satisfied: google-api-python-client in /usr/local/lib/python3.11/dist-packages (from google-generativeai) (2.155.0)\n",
            "Requirement already satisfied: google-auth>=2.15.0 in /usr/local/lib/python3.11/dist-packages (from google-generativeai) (2.27.0)\n",
            "Requirement already satisfied: protobuf in /usr/local/lib/python3.11/dist-packages (from google-generativeai) (4.25.6)\n",
            "Requirement already satisfied: pydantic in /usr/local/lib/python3.11/dist-packages (from google-generativeai) (2.10.6)\n",
            "Requirement already satisfied: tqdm in /usr/local/lib/python3.11/dist-packages (from google-generativeai) (4.67.1)\n",
            "Requirement already satisfied: typing-extensions in /usr/local/lib/python3.11/dist-packages (from google-generativeai) (4.12.2)\n",
            "Requirement already satisfied: proto-plus<2.0.0dev,>=1.22.3 in /usr/local/lib/python3.11/dist-packages (from google-ai-generativelanguage==0.6.15->google-generativeai) (1.26.0)\n",
            "Requirement already satisfied: googleapis-common-protos<2.0.dev0,>=1.56.2 in /usr/local/lib/python3.11/dist-packages (from google-api-core->google-generativeai) (1.66.0)\n",
            "Requirement already satisfied: requests<3.0.0.dev0,>=2.18.0 in /usr/local/lib/python3.11/dist-packages (from google-api-core->google-generativeai) (2.32.3)\n",
            "Requirement already satisfied: cachetools<6.0,>=2.0.0 in /usr/local/lib/python3.11/dist-packages (from google-auth>=2.15.0->google-generativeai) (5.5.1)\n",
            "Requirement already satisfied: pyasn1-modules>=0.2.1 in /usr/local/lib/python3.11/dist-packages (from google-auth>=2.15.0->google-generativeai) (0.4.1)\n",
            "Requirement already satisfied: rsa<5,>=3.1.4 in /usr/local/lib/python3.11/dist-packages (from google-auth>=2.15.0->google-generativeai) (4.9)\n",
            "Requirement already satisfied: httplib2<1.dev0,>=0.19.0 in /usr/local/lib/python3.11/dist-packages (from google-api-python-client->google-generativeai) (0.22.0)\n",
            "Requirement already satisfied: google-auth-httplib2<1.0.0,>=0.2.0 in /usr/local/lib/python3.11/dist-packages (from google-api-python-client->google-generativeai) (0.2.0)\n",
            "Requirement already satisfied: uritemplate<5,>=3.0.1 in /usr/local/lib/python3.11/dist-packages (from google-api-python-client->google-generativeai) (4.1.1)\n",
            "Requirement already satisfied: annotated-types>=0.6.0 in /usr/local/lib/python3.11/dist-packages (from pydantic->google-generativeai) (0.7.0)\n",
            "Requirement already satisfied: pydantic-core==2.27.2 in /usr/local/lib/python3.11/dist-packages (from pydantic->google-generativeai) (2.27.2)\n",
            "Requirement already satisfied: grpcio<2.0dev,>=1.33.2 in /usr/local/lib/python3.11/dist-packages (from google-api-core[grpc]!=2.0.*,!=2.1.*,!=2.10.*,!=2.2.*,!=2.3.*,!=2.4.*,!=2.5.*,!=2.6.*,!=2.7.*,!=2.8.*,!=2.9.*,<3.0.0dev,>=1.34.1->google-ai-generativelanguage==0.6.15->google-generativeai) (1.70.0)\n",
            "Requirement already satisfied: grpcio-status<2.0.dev0,>=1.33.2 in /usr/local/lib/python3.11/dist-packages (from google-api-core[grpc]!=2.0.*,!=2.1.*,!=2.10.*,!=2.2.*,!=2.3.*,!=2.4.*,!=2.5.*,!=2.6.*,!=2.7.*,!=2.8.*,!=2.9.*,<3.0.0dev,>=1.34.1->google-ai-generativelanguage==0.6.15->google-generativeai) (1.62.3)\n",
            "Requirement already satisfied: pyparsing!=3.0.0,!=3.0.1,!=3.0.2,!=3.0.3,<4,>=2.4.2 in /usr/local/lib/python3.11/dist-packages (from httplib2<1.dev0,>=0.19.0->google-api-python-client->google-generativeai) (3.2.1)\n",
            "Requirement already satisfied: pyasn1<0.7.0,>=0.4.6 in /usr/local/lib/python3.11/dist-packages (from pyasn1-modules>=0.2.1->google-auth>=2.15.0->google-generativeai) (0.6.1)\n",
            "Requirement already satisfied: charset-normalizer<4,>=2 in /usr/local/lib/python3.11/dist-packages (from requests<3.0.0.dev0,>=2.18.0->google-api-core->google-generativeai) (3.4.1)\n",
            "Requirement already satisfied: idna<4,>=2.5 in /usr/local/lib/python3.11/dist-packages (from requests<3.0.0.dev0,>=2.18.0->google-api-core->google-generativeai) (3.10)\n",
            "Requirement already satisfied: urllib3<3,>=1.21.1 in /usr/local/lib/python3.11/dist-packages (from requests<3.0.0.dev0,>=2.18.0->google-api-core->google-generativeai) (2.3.0)\n",
            "Requirement already satisfied: certifi>=2017.4.17 in /usr/local/lib/python3.11/dist-packages (from requests<3.0.0.dev0,>=2.18.0->google-api-core->google-generativeai) (2024.12.14)\n"
          ]
        }
      ],
      "source": [
        "# install google-generativeai for calling Gemini API\n",
        "!pip install google-generativeai"
      ]
    },
    {
      "cell_type": "code",
      "execution_count": null,
      "metadata": {
        "id": "GRVMI16FhUJe"
      },
      "outputs": [],
      "source": [
        "import google.generativeai as genai\n",
        "from google.colab import userdata\n",
        "\n",
        "# If you want to use userdata, you must add GOOGLE_API_KEY to Secrets in Google Colab\n",
        "GOOGLE_API_KEY=userdata.get('api')\n",
        "genai.configure(api_key=GOOGLE_API_KEY)"
      ]
    },
    {
      "cell_type": "code",
      "execution_count": null,
      "metadata": {
        "colab": {
          "base_uri": "https://localhost:8080/",
          "height": 659
        },
        "id": "Rn7oHy0v6Ynx",
        "outputId": "d0d135d9-a870-46c6-d177-72ab85f8a9d8"
      },
      "outputs": [
        {
          "output_type": "stream",
          "name": "stdout",
          "text": [
            "models/chat-bison-001\n",
            "models/text-bison-001\n",
            "models/embedding-gecko-001\n",
            "models/gemini-1.0-pro-latest\n",
            "models/gemini-1.0-pro\n",
            "models/gemini-pro\n",
            "models/gemini-1.0-pro-001\n",
            "models/gemini-1.0-pro-vision-latest\n",
            "models/gemini-pro-vision\n",
            "models/gemini-1.5-pro-latest\n",
            "models/gemini-1.5-pro-001\n",
            "models/gemini-1.5-pro-002\n",
            "models/gemini-1.5-pro\n",
            "models/gemini-1.5-pro-exp-0801\n",
            "models/gemini-1.5-pro-exp-0827\n",
            "models/gemini-1.5-flash-latest\n",
            "models/gemini-1.5-flash-001\n",
            "models/gemini-1.5-flash-001-tuning\n",
            "models/gemini-1.5-flash\n",
            "models/gemini-1.5-flash-exp-0827\n",
            "models/gemini-1.5-flash-002\n",
            "models/gemini-1.5-flash-8b\n",
            "models/gemini-1.5-flash-8b-001\n",
            "models/gemini-1.5-flash-8b-latest\n",
            "models/gemini-1.5-flash-8b-exp-0827\n",
            "models/gemini-1.5-flash-8b-exp-0924\n",
            "models/gemini-2.0-flash-exp\n",
            "models/gemini-exp-1206\n",
            "models/gemini-exp-1121\n",
            "models/gemini-exp-1114\n",
            "models/gemini-2.0-flash-thinking-exp-01-21\n",
            "models/gemini-2.0-flash-thinking-exp\n",
            "models/gemini-2.0-flash-thinking-exp-1219\n",
            "models/learnlm-1.5-pro-experimental\n",
            "models/embedding-001\n",
            "models/text-embedding-004\n",
            "models/aqa\n"
          ]
        }
      ],
      "source": [
        "for m in genai.list_models():\n",
        "  print(m.name)"
      ]
    },
    {
      "cell_type": "code",
      "execution_count": null,
      "metadata": {
        "id": "vAKqTtf2inVI"
      },
      "outputs": [],
      "source": [
        "model = genai.GenerativeModel(\"gemini-1.5-flash-latest\",\n",
        "                              safety_settings={\n",
        "                                'HATE': 'BLOCK_NONE',\n",
        "                                'HARASSMENT': 'BLOCK_NONE',\n",
        "                                'SEXUAL' : 'BLOCK_NONE',\n",
        "                                'DANGEROUS' : 'BLOCK_NONE'\n",
        "                            })"
      ]
    },
    {
      "cell_type": "code",
      "source": [
        "!unzip \"/content/SemEval_2014_Task_4-20250204T160411Z-001.zip\""
      ],
      "metadata": {
        "colab": {
          "base_uri": "https://localhost:8080/"
        },
        "id": "-rG1K0nYvGaV",
        "outputId": "4dad3448-a76e-45f1-d6c6-34e816d74a41"
      },
      "execution_count": null,
      "outputs": [
        {
          "output_type": "stream",
          "name": "stdout",
          "text": [
            "Archive:  /content/SemEval_2014_Task_4-20250204T160411Z-001.zip\n",
            "  inflating: SemEval_2014_Task_4/Laptops_Test_Data_PhaseA.xml  \n",
            "  inflating: SemEval_2014_Task_4/laptops-trial.xml  \n",
            "  inflating: SemEval_2014_Task_4/Restaurants_Test_Data_phaseB.xml  \n",
            "  inflating: SemEval_2014_Task_4/Laptops_Test_Data_phaseB.xml  \n",
            "  inflating: SemEval_2014_Task_4/restaurants-trial.xml  \n",
            "  inflating: SemEval_2014_Task_4/Restaurants_Test_Data_PhaseA.xml  \n",
            "  inflating: SemEval_2014_Task_4/Laptops_Train.xml  \n",
            "  inflating: SemEval_2014_Task_4/Restaurants_Train.xml  \n"
          ]
        }
      ]
    },
    {
      "cell_type": "code",
      "source": [
        "import xml.etree.ElementTree as ET\n",
        "import pandas as pd\n",
        "\n",
        "# Đọc dữ liệu XML\n",
        "tree = ET.parse('/content/SemEval_2014_Task_4/Laptops_Test_Data_phaseB.xml')\n",
        "root = tree.getroot()\n",
        "\n",
        "data = []\n",
        "\n",
        "# Duyệt qua tất cả các câu trong XML\n",
        "for sentence in root.findall('.//sentence'):\n",
        "    sentence_id = sentence.get('id')  # Lấy ID của câu\n",
        "    sentence_text = ''.join(sentence.itertext()).strip()  # Lấy toàn bộ văn bản của câu\n",
        "    aspect_terms = []\n",
        "\n",
        "    # Kiểm tra xem có phần tử aspectTerms trong câu không\n",
        "    aspectTerms = sentence.find('./aspectTerms')  # Tìm đúng vị trí aspectTerms\n",
        "    if aspectTerms is not None:\n",
        "        # Lấy các aspectTerm trong câu hiện tại\n",
        "        for aspectTerm in aspectTerms.findall('aspectTerm'):\n",
        "            term = aspectTerm.get('term')  # Lấy giá trị term\n",
        "            aspect_terms.append(term)\n",
        "\n",
        "    # Nếu không có aspectTerm, thêm một danh sách trống\n",
        "    if not aspect_terms:\n",
        "        aspect_terms = []\n",
        "\n",
        "    # Thêm thông tin vào danh sách dữ liệu\n",
        "    data.append((sentence_id, sentence_text, aspect_terms))\n",
        "\n",
        "# Chuyển đổi dữ liệu thành DataFrame\n",
        "df = pd.DataFrame(data, columns=['ID', 'Text', 'AspectTerms'])\n",
        "\n",
        "# Hiển thị 5 dòng đầu tiên của DataFrame\n",
        "print(df.head())\n"
      ],
      "metadata": {
        "colab": {
          "base_uri": "https://localhost:8080/"
        },
        "id": "2r2lYH5FvN6n",
        "outputId": "5afdc3aa-16cc-4d63-89c9-15fc7230ad29"
      },
      "execution_count": null,
      "outputs": [
        {
          "output_type": "stream",
          "name": "stdout",
          "text": [
            "       ID                                               Text  \\\n",
            "0   892:1  Boot time is super fast, around anywhere from ...   \n",
            "1  1144:1  tech support would not fix the problem unless ...   \n",
            "2   805:2                 but in resume this computer rocks!   \n",
            "3   359:1                                   Set up was easy.   \n",
            "4   562:1  Did not enjoy the new Windows 8 and touchscree...   \n",
            "\n",
            "                          AspectTerms  \n",
            "0                         [Boot time]  \n",
            "1                      [tech support]  \n",
            "2                                  []  \n",
            "3                            [Set up]  \n",
            "4  [Windows 8, touchscreen functions]  \n"
          ]
        }
      ]
    },
    {
      "cell_type": "code",
      "source": [
        "data=data[:10]"
      ],
      "metadata": {
        "id": "HWWREDMYwTgE"
      },
      "execution_count": null,
      "outputs": []
    },
    {
      "cell_type": "code",
      "source": [
        "data"
      ],
      "metadata": {
        "colab": {
          "base_uri": "https://localhost:8080/"
        },
        "id": "luimYieM4gEE",
        "outputId": "07917b6b-64f0-4879-a03a-9d54832eacc3"
      },
      "execution_count": null,
      "outputs": [
        {
          "output_type": "execute_result",
          "data": {
            "text/plain": [
              "[('892:1',\n",
              "  'Boot time is super fast, around anywhere from 35 seconds to 1 minute.',\n",
              "  ['Boot time']),\n",
              " ('1144:1',\n",
              "  'tech support would not fix the problem unless I bought your plan for $150 plus.',\n",
              "  ['tech support']),\n",
              " ('805:2', 'but in resume this computer rocks!', []),\n",
              " ('359:1', 'Set up was easy.', ['Set up']),\n",
              " ('562:1',\n",
              "  'Did not enjoy the new Windows 8 and touchscreen functions.',\n",
              "  ['Windows 8', 'touchscreen functions']),\n",
              " ('323:1',\n",
              "  \"I expected so as it's an Apple product, but I was glad to see my expectations exceeded, this is THE laptop to buy right now.\",\n",
              "  []),\n",
              " ('958:1',\n",
              "  \"Other than not being a fan of click pads (industry standard these days) and the lousy internal speakers, it's hard for me to find things about this notebook I don't like, especially considering the $350 price tag.\",\n",
              "  ['internal speakers', 'price tag', 'click pads']),\n",
              " ('684:1', 'excellent in every way.', []),\n",
              " ('282:9',\n",
              "  'No installation disk (DVD) is included.',\n",
              "  ['installation disk (DVD)']),\n",
              " ('819:1', \"It's fast, light, and simple to use.\", ['use'])]"
            ]
          },
          "metadata": {},
          "execution_count": 12
        }
      ]
    },
    {
      "cell_type": "markdown",
      "metadata": {
        "id": "s6pwoY7VxCT5"
      },
      "source": [
        "### 0-shot"
      ]
    },
    {
      "cell_type": "code",
      "execution_count": null,
      "metadata": {
        "colab": {
          "base_uri": "https://localhost:8080/",
          "height": 208
        },
        "id": "V0v_wW1exuBH",
        "outputId": "4910cd62-f6fc-421b-b287-1f3c5e8f4ef6"
      },
      "outputs": [
        {
          "output_type": "stream",
          "name": "stderr",
          "text": [
            "\r  0%|          | 0/10 [00:00<?, ?it/s]"
          ]
        },
        {
          "output_type": "stream",
          "name": "stdout",
          "text": [
            "Boot time\n"
          ]
        },
        {
          "output_type": "stream",
          "name": "stderr",
          "text": [
            "\r 10%|█         | 1/10 [00:05<00:49,  5.51s/it]"
          ]
        },
        {
          "output_type": "stream",
          "name": "stdout",
          "text": [
            "tech support\n"
          ]
        },
        {
          "output_type": "stream",
          "name": "stderr",
          "text": [
            "\r 20%|██        | 2/10 [00:10<00:39,  4.94s/it]"
          ]
        },
        {
          "output_type": "stream",
          "name": "stdout",
          "text": [
            "\n"
          ]
        },
        {
          "output_type": "stream",
          "name": "stderr",
          "text": [
            "\r 30%|███       | 3/10 [00:13<00:30,  4.41s/it]"
          ]
        },
        {
          "output_type": "stream",
          "name": "stdout",
          "text": [
            "Set up\n"
          ]
        },
        {
          "output_type": "stream",
          "name": "stderr",
          "text": [
            "\r 40%|████      | 4/10 [00:16<00:23,  3.86s/it]"
          ]
        },
        {
          "output_type": "stream",
          "name": "stdout",
          "text": [
            "Windows 8, touchscreen functions\n"
          ]
        },
        {
          "output_type": "stream",
          "name": "stderr",
          "text": [
            "\r 50%|█████     | 5/10 [00:19<00:17,  3.58s/it]"
          ]
        },
        {
          "output_type": "stream",
          "name": "stdout",
          "text": [
            "\n"
          ]
        },
        {
          "output_type": "stream",
          "name": "stderr",
          "text": [
            "\r 60%|██████    | 6/10 [00:24<00:15,  3.95s/it]"
          ]
        },
        {
          "output_type": "stream",
          "name": "stdout",
          "text": [
            "internal speakers, price tag, click pads\n"
          ]
        },
        {
          "output_type": "stream",
          "name": "stderr",
          "text": [
            "\r 70%|███████   | 7/10 [00:29<00:13,  4.39s/it]"
          ]
        },
        {
          "output_type": "stream",
          "name": "stdout",
          "text": [
            "\n"
          ]
        },
        {
          "output_type": "stream",
          "name": "stderr",
          "text": [
            "\r 80%|████████  | 8/10 [00:32<00:07,  3.80s/it]"
          ]
        },
        {
          "output_type": "stream",
          "name": "stdout",
          "text": [
            "installation disk (DVD)\n"
          ]
        },
        {
          "output_type": "stream",
          "name": "stderr",
          "text": [
            "\r 90%|█████████ | 9/10 [00:36<00:03,  3.86s/it]"
          ]
        },
        {
          "output_type": "stream",
          "name": "stdout",
          "text": [
            "use\n"
          ]
        },
        {
          "output_type": "stream",
          "name": "stderr",
          "text": [
            "100%|██████████| 10/10 [00:39<00:00,  4.00s/it]\n"
          ]
        }
      ],
      "source": [
        "from tqdm import tqdm\n",
        "import time\n",
        "import json\n",
        "predict = {}\n",
        "count = 0\n",
        "\n",
        "# Testing\n",
        "for sample in tqdm(data):\n",
        "    sample_id, text,aspect = sample\n",
        "    aspect_text = ', '.join(aspect)\n",
        "    print(aspect_text)\n",
        "    prompt = f\"Bạn là một trợ thủ đắc lực! Hãy vui lòng phân tích câu sau bằng tiếng anh, xác định các thuật ngữ thuộc tính (aspects) và độ cảm xúc (polarity) tương ứng của chúng (tích cực, tiêu cực, trung lập, mâu thuẫn) dựa trên các {aspect_text} đã cho trước\"\n",
        "    response = model.generate_content([prompt, text])\n",
        "    predict[sample_id] = response.text\n",
        "    with open(\"0-shot.json\", \"w\", encoding= 'utf-8') as outfile:\n",
        "        json.dump(predict, outfile, indent=4, ensure_ascii=False)\n",
        "    if (count % 10 == 0) and (count != 0):\n",
        "      time.sleep(90)\n",
        "    count += 1\n"
      ]
    },
    {
      "cell_type": "markdown",
      "metadata": {
        "id": "V5olcd9XAmfN"
      },
      "source": [
        "### 1-shot"
      ]
    },
    {
      "cell_type": "code",
      "execution_count": null,
      "metadata": {
        "id": "-MkF4MfPw7O6"
      },
      "outputs": [],
      "source": [
        "prompt_base = '''\n",
        "Bạn là một trợ lý thông minh! Hãy phân tích câu dưới đây bằng tiếng Anh, xác định các thuật ngữ (aspects) và độ cảm xúc (polarity) tương ứng với chúng (tích cực, tiêu cực, trung lập, mâu thuẫn).\n",
        "Ví dụ:\n",
        "Text: The tech guy then said the service center does not do 1-to-1 exchange and I have to direct my concern to the \"sales\" team, which is the retail shop where I bought my netbook from?\n",
        "Aspect :service center,&quot;sales&quot,tech guy\n",
        "Answer:\n",
        "term=\"service center\" polarity=\"negative\"\n",
        "term=\"&quot;sales&quot; team\" polarity=\"negative\"\n",
        "term=\"tech guy\" polarity=\"neutral\"\n",
        "'''"
      ]
    },
    {
      "cell_type": "code",
      "source": [
        "from tqdm import tqdm\n",
        "import time\n",
        "import json\n",
        "predict = {}\n",
        "count = 0\n",
        "\n",
        "  # Testing\n",
        "for sample in tqdm(data):\n",
        "      sample_id, text,aspect = sample\n",
        "      aspect_text = ', '.join(aspect)\n",
        "      prompt = prompt_base + f\"\\nBây giờ, hãy phân tích câu sau với phần trả lời ngắn gọn giống như câu trước : {text} với các Aspect là {aspect_text}\"\n",
        "      response = model.generate_content([prompt])\n",
        "      print(response.text)\n",
        "      predict[sample_id] = response.text\n",
        "      with open(f\"1-shot.json\", \"w\", encoding= 'utf-8') as outfile:\n",
        "          json.dump(predict, outfile, indent=4, ensure_ascii=False)\n",
        "      if (count % 10 == 0) and (count != 0):\n",
        "        time.sleep(70)\n",
        "      count += 1"
      ],
      "metadata": {
        "colab": {
          "base_uri": "https://localhost:8080/",
          "height": 711
        },
        "id": "MZgukAuUyHFt",
        "outputId": "7c7acf12-0e5b-42b4-fdec-f5535ea59522"
      },
      "execution_count": null,
      "outputs": [
        {
          "output_type": "stream",
          "name": "stderr",
          "text": [
            " 10%|█         | 1/10 [00:01<00:14,  1.62s/it]"
          ]
        },
        {
          "output_type": "stream",
          "name": "stdout",
          "text": [
            "term=\"Boot time\" polarity=\"positive\"\n",
            "\n"
          ]
        },
        {
          "output_type": "stream",
          "name": "stderr",
          "text": [
            "\r 20%|██        | 2/10 [00:03<00:15,  1.89s/it]"
          ]
        },
        {
          "output_type": "stream",
          "name": "stdout",
          "text": [
            "term=\"tech support\" polarity=\"negative\"\n",
            "\n"
          ]
        },
        {
          "output_type": "stream",
          "name": "stderr",
          "text": [
            "\r 30%|███       | 3/10 [00:05<00:12,  1.78s/it]"
          ]
        },
        {
          "output_type": "stream",
          "name": "stdout",
          "text": [
            "term=\"computer\" polarity=\"positive\"\n",
            "term=\"resume\" polarity=\"neutral\"\n",
            "\n"
          ]
        },
        {
          "output_type": "stream",
          "name": "stderr",
          "text": [
            "\r 40%|████      | 4/10 [00:06<00:10,  1.72s/it]"
          ]
        },
        {
          "output_type": "stream",
          "name": "stdout",
          "text": [
            "term=\"Set up\" polarity=\"positive\"\n",
            "\n"
          ]
        },
        {
          "output_type": "stream",
          "name": "stderr",
          "text": [
            "\r 50%|█████     | 5/10 [00:09<00:09,  1.86s/it]"
          ]
        },
        {
          "output_type": "stream",
          "name": "stdout",
          "text": [
            "term=\"Windows 8\" polarity=\"negative\"\n",
            "term=\"touchscreen functions\" polarity=\"negative\"\n",
            "\n"
          ]
        },
        {
          "output_type": "stream",
          "name": "stderr",
          "text": [
            "\r 60%|██████    | 6/10 [00:11<00:08,  2.13s/it]"
          ]
        },
        {
          "output_type": "stream",
          "name": "stdout",
          "text": [
            "Here's an analysis of the sentence, focusing on the provided aspects:\n",
            "\n",
            "**Text:** I expected so as it's an Apple product, but I was glad to see my expectations exceeded, this is THE laptop to buy right now.\n",
            "\n",
            "**Aspects:** Apple product, expectations, laptop\n",
            "\n",
            "\n",
            "**Answer:**\n",
            "\n",
            "term=\"Apple product\" polarity=\"positive\"\n",
            "term=\"expectations\" polarity=\"positive\"\n",
            "term=\"laptop\" polarity=\"positive\"\n",
            "\n"
          ]
        },
        {
          "output_type": "stream",
          "name": "stderr",
          "text": [
            "\r 70%|███████   | 7/10 [00:14<00:06,  2.24s/it]"
          ]
        },
        {
          "output_type": "stream",
          "name": "stdout",
          "text": [
            "term=\"internal speakers\" polarity=\"negative\"\n",
            "term=\"price tag\" polarity=\"positive\"\n",
            "term=\"click pads\" polarity=\"negative\"\n",
            "\n"
          ]
        },
        {
          "output_type": "stream",
          "name": "stderr",
          "text": [
            "\r 80%|████████  | 8/10 [00:16<00:04,  2.16s/it]"
          ]
        },
        {
          "output_type": "stream",
          "name": "stdout",
          "text": [
            "Text: excellent in every way\n",
            "\n",
            "Aspect: overall quality\n",
            "\n",
            "Answer: term=\"overall quality\" polarity=\"positive\"\n",
            "\n"
          ]
        },
        {
          "output_type": "stream",
          "name": "stderr",
          "text": [
            "\r 90%|█████████ | 9/10 [00:17<00:01,  1.97s/it]"
          ]
        },
        {
          "output_type": "stream",
          "name": "stdout",
          "text": [
            "term=\"installation disk (DVD)\" polarity=\"negative\"\n",
            "\n"
          ]
        },
        {
          "output_type": "stream",
          "name": "stderr",
          "text": [
            "100%|██████████| 10/10 [00:19<00:00,  1.93s/it]"
          ]
        },
        {
          "output_type": "stream",
          "name": "stdout",
          "text": [
            "term=\"use\" polarity=\"positive\"\n",
            "\n"
          ]
        },
        {
          "output_type": "stream",
          "name": "stderr",
          "text": [
            "\n"
          ]
        }
      ]
    },
    {
      "cell_type": "markdown",
      "source": [],
      "metadata": {
        "id": "du6sXXPizD4U"
      }
    }
  ],
  "metadata": {
    "colab": {
      "provenance": [],
      "gpuType": "T4"
    },
    "kernelspec": {
      "display_name": "Python 3",
      "name": "python3"
    },
    "language_info": {
      "name": "python"
    },
    "accelerator": "GPU"
  },
  "nbformat": 4,
  "nbformat_minor": 0
}